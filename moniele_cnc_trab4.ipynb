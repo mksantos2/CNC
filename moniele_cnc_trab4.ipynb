{
  "nbformat": 4,
  "nbformat_minor": 0,
  "metadata": {
    "colab": {
      "name": "moniele_cnc_trab4.ipynb",
      "provenance": [],
      "collapsed_sections": []
    },
    "kernelspec": {
      "name": "python3",
      "display_name": "Python 3"
    }
  },
  "cells": [
    {
      "cell_type": "code",
      "metadata": {
        "id": "WI76VPRCiFzr",
        "colab_type": "code",
        "colab": {}
      },
      "source": [
        "import pylab as pl\n",
        "from scipy import linalg\n",
        "from numpy import log\n",
        "import numpy as np\n",
        "from math import exp\n",
        "import math\n",
        "import matplotlib.pyplot as plt"
      ],
      "execution_count": 0,
      "outputs": []
    },
    {
      "cell_type": "markdown",
      "metadata": {
        "id": "tpWhsxQrnNAO",
        "colab_type": "text"
      },
      "source": [
        "##Regra dos Trapézios"
      ]
    },
    {
      "cell_type": "code",
      "metadata": {
        "id": "R-GKWXQJifm_",
        "colab_type": "code",
        "colab": {}
      },
      "source": [
        "def trapezio (f, a, b, n=100):\n",
        "    h = (b - a) / n\n",
        "    integral = 0;\n",
        "    for k in range(1, n):\n",
        "        integral += f(a + k*h)\n",
        "    integral *= 2\n",
        "    integral += f(a) + f(b)\n",
        "    return integral * (h/2)"
      ],
      "execution_count": 0,
      "outputs": []
    },
    {
      "cell_type": "code",
      "metadata": {
        "id": "UgAbKXESpA0v",
        "colab_type": "code",
        "outputId": "835c4a36-a452-4e16-fc6c-f6659e130630",
        "colab": {
          "base_uri": "https://localhost:8080/",
          "height": 34
        }
      },
      "source": [
        "f = lambda x: x*math.log(x)\n",
        "\n",
        "print(trapezio(f, 1, 2, 4))"
      ],
      "execution_count": 0,
      "outputs": [
        {
          "output_type": "stream",
          "text": [
            "0.639900477687986\n"
          ],
          "name": "stdout"
        }
      ]
    },
    {
      "cell_type": "markdown",
      "metadata": {
        "id": "Uw6OnAB8sU9W",
        "colab_type": "text"
      },
      "source": [
        "\n",
        "\n",
        "##Regra 1/3 Simpson"
      ]
    },
    {
      "cell_type": "code",
      "metadata": {
        "id": "JiNvK2bSigIY",
        "colab_type": "code",
        "colab": {}
      },
      "source": [
        "def simpson13 (f, a, b, n=100):\n",
        "    h = (b - a) / n\n",
        "    integral = 0\n",
        "    integral += f(a) + f(b)\n",
        "    for k in range(1, n):\n",
        "        if(k % 2 == 0):\n",
        "            integral += f(a + k * h) * 2\n",
        "        else:\n",
        "            integral += f(a + k * h) * 4\n",
        "    integral *= h/3\n",
        "    return integral"
      ],
      "execution_count": 0,
      "outputs": []
    },
    {
      "cell_type": "code",
      "metadata": {
        "id": "yl8TOdpprIQn",
        "colab_type": "code",
        "outputId": "bfe5383c-f32c-4202-c9cc-e12f67b967ee",
        "colab": {
          "base_uri": "https://localhost:8080/",
          "height": 34
        }
      },
      "source": [
        "print(simpson13(f, 1, 2, 4))"
      ],
      "execution_count": 0,
      "outputs": [
        {
          "output_type": "stream",
          "text": [
            "0.6363098297969492\n"
          ],
          "name": "stdout"
        }
      ]
    },
    {
      "cell_type": "markdown",
      "metadata": {
        "id": "siCqRQgysXqR",
        "colab_type": "text"
      },
      "source": [
        "##3/8 Simpson Repetido"
      ]
    },
    {
      "cell_type": "code",
      "metadata": {
        "id": "KSA51HO_iglj",
        "colab_type": "code",
        "colab": {}
      },
      "source": [
        "def simpson38 (f, a, b, n=99):\n",
        "    h = (b - a) / n\n",
        "    integral = 0\n",
        "    integral += f(a) + f(b)\n",
        "    for k in range(1, n):\n",
        "        if(k % 3 != 0):\n",
        "            integral += f(a + k * h) * 3\n",
        "        else:\n",
        "            integral += f(a + k * h) * 2\n",
        "    integral *= (3 * h) / 8\n",
        "    return integral"
      ],
      "execution_count": 0,
      "outputs": []
    },
    {
      "cell_type": "code",
      "metadata": {
        "id": "WtZUQpw_s_WH",
        "colab_type": "code",
        "outputId": "3cfb8fbe-f1d6-4b09-81dc-c534c86b41a7",
        "colab": {
          "base_uri": "https://localhost:8080/",
          "height": 34
        }
      },
      "source": [
        "print(simpson38(f, 1, 2, 4))"
      ],
      "execution_count": 0,
      "outputs": [
        {
          "output_type": "stream",
          "text": [
            "0.5630935240133341\n"
          ],
          "name": "stdout"
        }
      ]
    },
    {
      "cell_type": "markdown",
      "metadata": {
        "id": "fnuZVs8SA5AK",
        "colab_type": "text"
      },
      "source": [
        "##Lista 11"
      ]
    },
    {
      "cell_type": "code",
      "metadata": {
        "id": "3p-QyEk_A9g0",
        "colab_type": "code",
        "outputId": "f2bb7835-0ac5-424e-bc91-6a7c5059d32e",
        "colab": {
          "base_uri": "https://localhost:8080/",
          "height": 286
        }
      },
      "source": [
        "print(\"--- Questão 1 ---\\n\")\n",
        "print(\"--- Letra a) ---\\n\")\n",
        "\n",
        "fa = lambda x: x*math.log(x)\n",
        "print(\"--- Trapézio: ---\")\n",
        "print(trapezio(fa, 1, 2, 4))\n",
        "print(\"\\n\")\n",
        "print(\"--- 1/3 Simpson: ---\\n\")\n",
        "print(simpson13(fa, 1, 2, 4))\n",
        "print(\"\\n\")\n",
        "print(\"--- 3/8 Simpson: ---\\n\")\n",
        "print(simpson38(fa, 1, 2, 4))"
      ],
      "execution_count": 0,
      "outputs": [
        {
          "output_type": "stream",
          "text": [
            "--- Questão 1 ---\n",
            "\n",
            "--- Letra a) ---\n",
            "\n",
            "--- Trapézio: ---\n",
            "0.639900477687986\n",
            "\n",
            "\n",
            "--- 1/3 Simpson: ---\n",
            "\n",
            "0.6363098297969492\n",
            "\n",
            "\n",
            "--- 3/8 Simpson: ---\n",
            "\n",
            "0.5630935240133341\n"
          ],
          "name": "stdout"
        }
      ]
    },
    {
      "cell_type": "code",
      "metadata": {
        "id": "8hbw8nXwCsWU",
        "colab_type": "code",
        "outputId": "099cd844-8da1-47ba-97f6-51a3547ca2e4",
        "colab": {
          "base_uri": "https://localhost:8080/",
          "height": 286
        }
      },
      "source": [
        "print(\"--- Questão 1 ---\\n\")\n",
        "print(\"--- Letra b) ---\\n\")\n",
        "\n",
        "fb = lambda x: x**3 * math.exp(x)\n",
        "print(\"--- Trapézio: ---\")\n",
        "print(trapezio(fb, -2, 2, 4))\n",
        "print(\"\\n\")\n",
        "print(\"--- 1/3 Simpson: ---\\n\")\n",
        "print(simpson13(fb, -2, 2, 4))\n",
        "print(\"\\n\")\n",
        "print(\"--- 3/8 Simpson: ---\\n\")\n",
        "print(simpson38(fb, -2, 2, 4))"
      ],
      "execution_count": 0,
      "outputs": [
        {
          "output_type": "stream",
          "text": [
            "--- Questão 1 ---\n",
            "\n",
            "--- Letra b) ---\n",
            "\n",
            "--- Trapézio: ---\n",
            "31.365285650063754\n",
            "\n",
            "\n",
            "--- 1/3 Simpson: ---\n",
            "\n",
            "22.477125358234236\n",
            "\n",
            "\n",
            "--- 3/8 Simpson: ---\n",
            "\n",
            "23.386009447108528\n"
          ],
          "name": "stdout"
        }
      ]
    },
    {
      "cell_type": "code",
      "metadata": {
        "id": "aE_LJ-BCECsm",
        "colab_type": "code",
        "outputId": "c5bea562-98d3-41fa-c101-95ac44b56e36",
        "colab": {
          "base_uri": "https://localhost:8080/",
          "height": 286
        }
      },
      "source": [
        "print(\"--- Questão 1 ---\\n\")\n",
        "print(\"--- Letra c) ---\\n\")\n",
        "\n",
        "fc = lambda x: 2/(x**2 + 4)\n",
        "print(\"--- Trapézio: ---\")\n",
        "print(trapezio(fc, 0, 2, 6))\n",
        "print(\"\\n\")\n",
        "print(\"--- 1/3 Simpson: ---\\n\")\n",
        "print(simpson13(fc, 0, 2, 6))\n",
        "print(\"\\n\")\n",
        "print(\"--- 3/8 Simpson: ---\\n\")\n",
        "print(simpson38(fc, 0, 2, 6))"
      ],
      "execution_count": 0,
      "outputs": [
        {
          "output_type": "stream",
          "text": [
            "--- Questão 1 ---\n",
            "\n",
            "--- Letra c) ---\n",
            "\n",
            "--- Trapézio: ---\n",
            "0.7842407666178159\n",
            "\n",
            "\n",
            "--- 1/3 Simpson: ---\n",
            "\n",
            "0.7853979452340107\n",
            "\n",
            "\n",
            "--- 3/8 Simpson: ---\n",
            "\n",
            "0.7853958624450428\n"
          ],
          "name": "stdout"
        }
      ]
    },
    {
      "cell_type": "code",
      "metadata": {
        "id": "SDPximIjE_3t",
        "colab_type": "code",
        "outputId": "451e8eff-7532-4c32-c8ea-56856bd62b99",
        "colab": {
          "base_uri": "https://localhost:8080/",
          "height": 286
        }
      },
      "source": [
        "print(\"--- Questão 1 ---\\n\")\n",
        "print(\"--- Letra d) ---\\n\")\n",
        "\n",
        "fd= lambda x: x**2 * math.cos(x)\n",
        "print(\"--- Trapézio: ---\")\n",
        "print(trapezio(fd, 0, 2, 6))\n",
        "print(\"\\n\")\n",
        "print(\"--- 1/3 Simpson: ---\\n\")\n",
        "print(simpson13(fd, 0, 2, 6))\n",
        "print(\"\\n\")\n",
        "print(\"--- 3/8 Simpson: ---\\n\")\n",
        "print(simpson38(fd, 0, 2, 6))"
      ],
      "execution_count": 0,
      "outputs": [
        {
          "output_type": "stream",
          "text": [
            "--- Questão 1 ---\n",
            "\n",
            "--- Letra d) ---\n",
            "\n",
            "--- Trapézio: ---\n",
            "0.10486282062502479\n",
            "\n",
            "\n",
            "--- 1/3 Simpson: ---\n",
            "\n",
            "0.154219386559118\n",
            "\n",
            "\n",
            "--- 3/8 Simpson: ---\n",
            "\n",
            "0.15446959410642097\n"
          ],
          "name": "stdout"
        }
      ]
    },
    {
      "cell_type": "code",
      "metadata": {
        "id": "l-kTSia4GIM_",
        "colab_type": "code",
        "outputId": "7a61ddec-2f33-4104-dcce-1e8c0f7bf4bc",
        "colab": {
          "base_uri": "https://localhost:8080/",
          "height": 286
        }
      },
      "source": [
        "print(\"--- Questão 1 ---\\n\")\n",
        "print(\"--- Letra e) ---\\n\")\n",
        "\n",
        "fe = lambda x: math.exp(2*x) * math.sin(3*x)\n",
        "print(\"--- Trapézio: ---\")\n",
        "print(trapezio(fe, 0, 2, 8))\n",
        "print(\"\\n\")\n",
        "print(\"--- 1/3 Simpson: ---\\n\")\n",
        "print(simpson13(fe, 0, 2, 8))\n",
        "print(\"\\n\")\n",
        "print(\"--- 3/8 Simpson: ---\\n\")\n",
        "print(simpson38(fe, 0, 2, 8))"
      ],
      "execution_count": 0,
      "outputs": [
        {
          "output_type": "stream",
          "text": [
            "--- Questão 1 ---\n",
            "\n",
            "--- Letra e) ---\n",
            "\n",
            "--- Trapézio: ---\n",
            "-13.575979391799388\n",
            "\n",
            "\n",
            "--- 1/3 Simpson: ---\n",
            "\n",
            "-14.183341561446696\n",
            "\n",
            "\n",
            "--- 3/8 Simpson: ---\n",
            "\n",
            "-13.044078086811808\n"
          ],
          "name": "stdout"
        }
      ]
    },
    {
      "cell_type": "code",
      "metadata": {
        "id": "Pk86RAx3Gjya",
        "colab_type": "code",
        "outputId": "bca48829-b0f5-441f-e871-e553f20a98a8",
        "colab": {
          "base_uri": "https://localhost:8080/",
          "height": 286
        }
      },
      "source": [
        "print(\"--- Questão 1 ---\\n\")\n",
        "print(\"--- Letra f) ---\\n\")\n",
        "\n",
        "ff = lambda x: x/(x**2 + 4)\n",
        "print(\"--- Trapézio: ---\")\n",
        "print(trapezio(ff, 1, 3, 8))\n",
        "print(\"\\n\")\n",
        "print(\"--- 1/3 Simpson: ---\\n\")\n",
        "print(simpson13(ff, 1, 3, 8))\n",
        "print(\"\\n\")\n",
        "print(\"--- 3/8 Simpson: ---\\n\")\n",
        "print(simpson38(ff, 1, 3, 8))"
      ],
      "execution_count": 0,
      "outputs": [
        {
          "output_type": "stream",
          "text": [
            "--- Questão 1 ---\n",
            "\n",
            "--- Letra f) ---\n",
            "\n",
            "--- Trapézio: ---\n",
            "0.4769768665147184\n",
            "\n",
            "\n",
            "--- 1/3 Simpson: ---\n",
            "\n",
            "0.4777546462847902\n",
            "\n",
            "\n",
            "--- 3/8 Simpson: ---\n",
            "\n",
            "0.47031072498263865\n"
          ],
          "name": "stdout"
        }
      ]
    },
    {
      "cell_type": "markdown",
      "metadata": {
        "id": "HkfDU8xGsXzK",
        "colab_type": "text"
      },
      "source": [
        "##Método de Euler\n"
      ]
    },
    {
      "cell_type": "code",
      "metadata": {
        "id": "tXoThiO5sSne",
        "colab_type": "code",
        "colab": {}
      },
      "source": [
        "#método de Euler que se aproxima de zero\n",
        "def euler_intoZero(f, x, y, h):\n",
        "    while y>0:\n",
        "        x = x + h\n",
        "        y = y + (f(x, y) * h)\n",
        "    return x"
      ],
      "execution_count": 0,
      "outputs": []
    },
    {
      "cell_type": "code",
      "metadata": {
        "id": "RPNpFbNiPdU9",
        "colab_type": "code",
        "colab": {}
      },
      "source": [
        "def euler(f, x,y,xe, h):\n",
        "    n = round((xe - x) / h)\n",
        "    for i in range(n):\n",
        "        x = x + h\n",
        "        y = y + (f(x, y) * h)\n",
        "    return y\n"
      ],
      "execution_count": 0,
      "outputs": []
    },
    {
      "cell_type": "code",
      "metadata": {
        "id": "Yd8uP8f_yV2z",
        "colab_type": "code",
        "colab": {}
      },
      "source": [
        "def euler_plot(f, x, y,xe, h):\n",
        "    n = round((xe - x) / h)\n",
        "    vec_x = [x] + [None] * n\n",
        "    vec_y = [y] + [None] * n\n",
        "    for i in range(n):\n",
        "        vec_x[i+1] = vec_x[i] + h\n",
        "        vec_y[i+1] = vec_y[i] + (f(vec_x[i], vec_y[i]) * h)\n",
        "        \n",
        "    return list(zip(vec_x, vec_y)) "
      ],
      "execution_count": 0,
      "outputs": []
    },
    {
      "cell_type": "code",
      "metadata": {
        "id": "drigfga3xuCH",
        "colab_type": "code",
        "outputId": "c44b9afe-df01-40c7-b56e-8ba88e528cc5",
        "colab": {
          "base_uri": "https://localhost:8080/",
          "height": 34
        }
      },
      "source": [
        "f1 = lambda t, x: 2*x * ((92-x) /92)\n",
        "print(euler(f1, 0, 10,3, 1))"
      ],
      "execution_count": 0,
      "outputs": [
        {
          "output_type": "stream",
          "text": [
            "99.6663418794218\n"
          ],
          "name": "stdout"
        }
      ]
    },
    {
      "cell_type": "code",
      "metadata": {
        "id": "6VwTWrKDMnQ8",
        "colab_type": "code",
        "outputId": "c15b821c-d52e-4270-af37-0d40929936ae",
        "colab": {
          "base_uri": "https://localhost:8080/",
          "height": 34
        }
      },
      "source": [
        "f1 = lambda t, x: -0.06*(math.sqrt(x))\n",
        "print(euler(f1, 0, 3, 0.5, 1))"
      ],
      "execution_count": 0,
      "outputs": [
        {
          "output_type": "stream",
          "text": [
            "0.37824235925741956\n"
          ],
          "name": "stdout"
        }
      ]
    },
    {
      "cell_type": "markdown",
      "metadata": {
        "colab_type": "text",
        "id": "zoxBuNohyQna"
      },
      "source": [
        "##Runge-Kutta 2ordem"
      ]
    },
    {
      "cell_type": "code",
      "metadata": {
        "id": "dAfpS5SqMmvl",
        "colab_type": "code",
        "colab": {}
      },
      "source": [
        ""
      ],
      "execution_count": 0,
      "outputs": []
    },
    {
      "cell_type": "code",
      "metadata": {
        "id": "eNl0VSs_oUzL",
        "colab_type": "code",
        "colab": {}
      },
      "source": [
        "  \n",
        "def runge_kuta_order_2_intoZero(f, x, y, h):\n",
        "\n",
        "    while y> 0:\n",
        "        try:\n",
        "            k1 = f(x, y)\n",
        "            k2 = f(x + 0.75 * h, y + 0.75 * h * k1)\n",
        "            y = y + (0.333 * k1 + 0.6667 * k2) * h\n",
        "            x = x + h\n",
        "        except ValueError:\n",
        "            break\n",
        "        #print(y)\n",
        "    return x\n",
        "    "
      ],
      "execution_count": 0,
      "outputs": []
    },
    {
      "cell_type": "code",
      "metadata": {
        "id": "bG3pV51gf_gf",
        "colab_type": "code",
        "colab": {}
      },
      "source": [
        "def runge_kuta_order_2(f, x, y, xe, h):\n",
        "    \n",
        "    n = round((xe - x) / h)\n",
        "    for i in range(n):\n",
        "        k1 = f(x, y)\n",
        "        k2 = f(x + 0.75 * h, y + 0.75 * h * k1)\n",
        "        y = y + (0.333 * k1 + 0.6667 * k2) * h\n",
        "        x = x + h\n",
        "\n",
        "    return y\n",
        "    "
      ],
      "execution_count": 0,
      "outputs": []
    },
    {
      "cell_type": "code",
      "metadata": {
        "id": "lLFgPE9e5Zx1",
        "colab_type": "code",
        "outputId": "edf9a3ef-f119-4783-cf75-8ab3a00c50fd",
        "colab": {
          "base_uri": "https://localhost:8080/",
          "height": 34
        }
      },
      "source": [
        "f1 = lambda t, x: 2*x * ((92-x) /92)\n",
        "print(runge_kuta_order_2(f1, 0, 10, 3,1))\n",
        "\n"
      ],
      "execution_count": 0,
      "outputs": [
        {
          "output_type": "stream",
          "text": [
            "78.63979811795461\n"
          ],
          "name": "stdout"
        }
      ]
    },
    {
      "cell_type": "code",
      "metadata": {
        "id": "-Q4AQXxuX1Zo",
        "colab_type": "code",
        "outputId": "ef675a10-c97b-46ba-c6d1-90d5a0185c16",
        "colab": {
          "base_uri": "https://localhost:8080/",
          "height": 34
        }
      },
      "source": [
        "f1 = lambda t, x: -0.06*(math.sqrt(x))\n",
        "print(runge_kuta_order_2_intoZero(f1, 0, 3, 0.5))"
      ],
      "execution_count": 0,
      "outputs": [
        {
          "output_type": "stream",
          "text": [
            "57.5\n"
          ],
          "name": "stdout"
        }
      ]
    },
    {
      "cell_type": "markdown",
      "metadata": {
        "id": "tKJDtqIdxap-",
        "colab_type": "text"
      },
      "source": [
        "\n",
        "##Runge-Kutta 4ordem\n",
        "\n",
        "\n"
      ]
    },
    {
      "cell_type": "code",
      "metadata": {
        "id": "hzsByjh9icO3",
        "colab_type": "code",
        "colab": {}
      },
      "source": [
        "\n",
        "def runge_kuta_order_4_intoZero(f, x, y, h):\n",
        "    while y > 0 :\n",
        "        try:\n",
        "            k1 = f(x, y)\n",
        "            k2 = f(x + 0.5 * h, y + 0.5 * k1 * h)\n",
        "            k3 = f(x + 0.5 * h, y + 0.5 * k2 * h)\n",
        "            k4 = f(x + h, y + k3 * h)\n",
        "            y = y + (1. / 6.) * (k1 + 2 * k2 + 2 * k3 + k4) * h\n",
        "            x = x + h\n",
        "        except ValueError:\n",
        "            break\n",
        "    return x\n",
        "\n",
        "    \n"
      ],
      "execution_count": 0,
      "outputs": []
    },
    {
      "cell_type": "code",
      "metadata": {
        "id": "8JC7qONyxa5T",
        "colab_type": "code",
        "colab": {}
      },
      "source": [
        "\n",
        "def runge_kuta_order_4(f, x, y, xe, h):\n",
        "\n",
        "    n = round((xe - x) / h)\n",
        "    for i in range(n):\n",
        "        k1 = f(x, y)\n",
        "        k2 = f(x + 0.5 * h, y + 0.5 * k1 * h)\n",
        "        k3 = f(x + 0.5 * h, y + 0.5 * k2 * h)\n",
        "        k4 = f(x + h, y + k3 * h)\n",
        "        y = y + (1. / 6.) * (k1 + 2 * k2 + 2 * k3 + k4) * h\n",
        "        x = x + h\n",
        "\n",
        "    return y\n",
        "\n",
        "    \n"
      ],
      "execution_count": 0,
      "outputs": []
    },
    {
      "cell_type": "code",
      "metadata": {
        "id": "OQoVptSMT65S",
        "colab_type": "code",
        "colab": {}
      },
      "source": [
        "def plot_runge_kuta_order_4(f, x, y, xe, h):\n",
        "    \n",
        "    n = round((xe - x) / h)\n",
        "    vec_x = [x] + [None] * n\n",
        "    vec_y = [y] + [None] * n\n",
        "    for i in range(n):\n",
        "        k1 = f(vec_x[i], vec_y[i])\n",
        "        k2 = f(vec_x[i] + 0.5 * h, vec_y[i] + 0.5 * k1 * h)\n",
        "        k3 = f(vec_x[i] + 0.5 * h, vec_y[i] + 0.5 * k2 * h)\n",
        "        k4 = f(vec_x[i] + h, vec_y[i] + k3 * h)\n",
        "        vec_y[i+1] = vec_y[i] + (1. / 6.) * (k1 + 2 * k2 + 2 * k3 + k4) * h\n",
        "        vec_x[i+1] = vec_x[i] + h\n",
        "\n",
        "    return list(zip(vec_x, vec_y))\n"
      ],
      "execution_count": 0,
      "outputs": []
    },
    {
      "cell_type": "code",
      "metadata": {
        "id": "9WoZsmWv56Ou",
        "colab_type": "code",
        "outputId": "27639e14-5089-473f-ace0-c43513ac6b63",
        "colab": {
          "base_uri": "https://localhost:8080/",
          "height": 34
        }
      },
      "source": [
        "f1 = lambda t, x: 2*x * ((92-x) /92)\n",
        "print(runge_kuta_order_4(f1, 0, 10, 3,1))\n"
      ],
      "execution_count": 0,
      "outputs": [
        {
          "output_type": "stream",
          "text": [
            "88.11659739027225\n"
          ],
          "name": "stdout"
        }
      ]
    },
    {
      "cell_type": "markdown",
      "metadata": {
        "id": "f2UoBBR8vA6V",
        "colab_type": "text"
      },
      "source": [
        "## Lista 12"
      ]
    },
    {
      "cell_type": "code",
      "metadata": {
        "id": "UeKAbFuA57ZU",
        "colab_type": "code",
        "outputId": "ae486c77-e039-43eb-e50f-b7b3248216ac",
        "colab": {
          "base_uri": "https://localhost:8080/",
          "height": 252
        }
      },
      "source": [
        "print(\"--- Questão 1 ---\\n\")\n",
        "\n",
        "f1 = lambda t, x: 2*x * ((92-x) /92)\n",
        "print(\"--- Euler: ---\")\n",
        "print(euler(f1, 0, 10, 3,1))\n",
        "print(\"\\n\")\n",
        "print(\"--- Runge-Kutta 2ordem: ---\\n\")\n",
        "print(runge_kuta_order_2(f1, 0, 10, 3,1))\n",
        "print(\"\\n\")\n",
        "print(\"--- Runge-Kutta 4ordem: ---\\n\")\n",
        "print(runge_kuta_order_4(f1, 0, 10, 3,1))"
      ],
      "execution_count": 0,
      "outputs": [
        {
          "output_type": "stream",
          "text": [
            "--- Questão 1 ---\n",
            "\n",
            "--- Euler: ---\n",
            "99.6663418794218\n",
            "\n",
            "\n",
            "--- Runge-Kutta 2ordem: ---\n",
            "\n",
            "78.63979811795461\n",
            "\n",
            "\n",
            "--- Runge-Kutta 4ordem: ---\n",
            "\n",
            "88.11659739027225\n"
          ],
          "name": "stdout"
        }
      ]
    },
    {
      "cell_type": "code",
      "metadata": {
        "id": "u-FVd9jbwDfe",
        "colab_type": "code",
        "outputId": "5235f93c-cee8-4323-91a3-01b0d712d43e",
        "colab": {
          "base_uri": "https://localhost:8080/",
          "height": 252
        }
      },
      "source": [
        "print(\"--- Questão 2 ---\\n\")\n",
        "\n",
        "f1 = lambda t, x: -0.06*(math.sqrt(x))\n",
        "print(\"--- Euler: ---\")\n",
        "print(euler_intoZero(f1, 0, 3, 0.5))\n",
        "print(\"\\n\")\n",
        "print(\"--- Runge-Kutta 2ordem: ---\\n\")\n",
        "print(runge_kuta_order_2_intoZero(f1, 0, 3, 0.5))\n",
        "print(\"\\n\")\n",
        "print(\"--- Runge-Kutta 4ordem: ---\\n\")\n",
        "print(runge_kuta_order_4_intoZero(f1, 0, 3, 0.5))"
      ],
      "execution_count": 0,
      "outputs": [
        {
          "output_type": "stream",
          "text": [
            "--- Questão 2 ---\n",
            "\n",
            "--- Euler: ---\n",
            "56.5\n",
            "\n",
            "\n",
            "--- Runge-Kutta 2ordem: ---\n",
            "\n",
            "57.5\n",
            "\n",
            "\n",
            "--- Runge-Kutta 4ordem: ---\n",
            "\n",
            "57.0\n"
          ],
          "name": "stdout"
        }
      ]
    },
    {
      "cell_type": "code",
      "metadata": {
        "id": "3svXvjzJ2Kgl",
        "colab_type": "code",
        "colab": {}
      },
      "source": [
        "def plot( pontos, xlabel = \"x\", ylabel = \"f(x)\"):  \n",
        "    númeroDePontos = 300\n",
        "    pl.figure(figsize=(8, 6), dpi=90)\n",
        "    janela_horizontal = (None, None)\n",
        "    pontos = np.array(pontos, \"float64\")\n",
        "    a, b = janela_horizontal\n",
        "    if a is None:\n",
        "        a = min(pontos[:, 0])\n",
        "        b = max(pontos[:, 0])\n",
        "    ax = pl.subplot(1, 1, 1)\n",
        "    ax = pl.gca()\n",
        "    ax.set_facecolor('#E73226')\n",
        "    \n",
        "    pontos = np.array(pontos)\n",
        "    plt.plot(pontos[:, 0], pontos[:, 1], 'x', marker='.', label='', color=\"#25AF53\", markersize=12)\n",
        "    pl.xlabel(xlabel)\n",
        "    pl.ylabel(ylabel)\n",
        "    \n",
        "\n",
        "    pl.axhline(0, color = \"black\")\n",
        "\n",
        "    pl.grid()\n",
        "\n",
        "    pl.show()"
      ],
      "execution_count": 0,
      "outputs": []
    },
    {
      "cell_type": "code",
      "metadata": {
        "id": "QUITOhMPxokH",
        "colab_type": "code",
        "outputId": "263063a6-f0b8-4512-8f95-702b5a2ee8c1",
        "colab": {
          "base_uri": "https://localhost:8080/",
          "height": 583
        }
      },
      "source": [
        "print(\"--- Questão 3 ---\\n\")\n",
        "\n",
        "f1 = lambda x, y: y*x**2 - y\n",
        "print(\"--- Euler com h = 0.5 ---\")\n",
        "print(euler(f1, 0, 1, 2,0.5))\n",
        "pontos = euler_plot(f1, 0, 1, 2,0.5)\n",
        "print(\"\\n\")\n",
        "plot(pontos)\n",
        "\n"
      ],
      "execution_count": 0,
      "outputs": [
        {
          "output_type": "stream",
          "text": [
            "--- Questão 3 ---\n",
            "\n",
            "--- Euler com h = 0.5 ---\n",
            "1.25\n",
            "\n",
            "\n"
          ],
          "name": "stdout"
        },
        {
          "output_type": "display_data",
          "data": {
            "image/png": "[encoded data removed]",
            "text/plain": [
              "<Figure size 720x540 with 1 Axes>"
            ]
          },
          "metadata": {
            "tags": []
          }
        }
      ]
    },
    {
      "cell_type": "code",
      "metadata": {
        "id": "8k99onLjFnFM",
        "colab_type": "code",
        "outputId": "3532c586-8858-4d47-a334-4942c1357457",
        "colab": {
          "base_uri": "https://localhost:8080/",
          "height": 583
        }
      },
      "source": [
        "print(\"--- Questão 3 ---\\n\")\n",
        "\n",
        "f1 = lambda x, y: y*x**2 - y\n",
        "print(\"--- Euler com h = 0.25 ---\")\n",
        "print(euler(f1, 0, 1, 2,0.25))\n",
        "pontos = euler_plot(f1, 0, 1, 2,0.25)\n",
        "print(\"\\n\")\n",
        "plot(pontos)"
      ],
      "execution_count": 0,
      "outputs": [
        {
          "output_type": "stream",
          "text": [
            "--- Questão 3 ---\n",
            "\n",
            "--- Euler com h = 0.25 ---\n",
            "1.108062744140625\n",
            "\n",
            "\n"
          ],
          "name": "stdout"
        },
        {
          "output_type": "display_data",
          "data": {
            "image/png": "[encoded data removed]",
            "text/plain": [
              "<Figure size 720x540 with 1 Axes>"
            ]
          },
          "metadata": {
            "tags": []
          }
        }
      ]
    },
    {
      "cell_type": "code",
      "metadata": {
        "id": "C3FvpDc8TorP",
        "colab_type": "code",
        "outputId": "7e984257-1406-486b-c7e5-a153512599b5",
        "colab": {
          "base_uri": "https://localhost:8080/",
          "height": 583
        }
      },
      "source": [
        "print(\"--- Questão 4 ---\\n\")\n",
        "\n",
        "f1 = lambda x, y: y*x**2 - y\n",
        "print(\"--- Runge Kutta 4ª ordem com h = 0.5 ---\")\n",
        "print(runge_kuta_order_4(f1, 0, 1, 2,0.5))\n",
        "pontos = plot_runge_kuta_order_4(f1, 0, 1, 2,0.5)\n",
        "print(\"\\n\")\n",
        "plot(pontos)"
      ],
      "execution_count": 0,
      "outputs": [
        {
          "output_type": "stream",
          "text": [
            "--- Questão 4 ---\n",
            "\n",
            "--- Runge Kutta 4ª ordem com h = 0.5 ---\n",
            "1.9332136425175064\n",
            "\n",
            "\n"
          ],
          "name": "stdout"
        },
        {
          "output_type": "display_data",
          "data": {
            "image/png": "[encoded data removed]",
            "text/plain": [
              "<Figure size 720x540 with 1 Axes>"
            ]
          },
          "metadata": {
            "tags": []
          }
        }
      ]
    },
    {
      "cell_type": "code",
      "metadata": {
        "id": "HI0mcDoNU71t",
        "colab_type": "code",
        "outputId": "2ea4d52c-7117-4330-9b7a-1531e12e2b8c",
        "colab": {
          "base_uri": "https://localhost:8080/",
          "height": 583
        }
      },
      "source": [
        "print(\"--- Questão 4 ---\\n\")\n",
        "\n",
        "f1 = lambda x, y: y*x**2 - y\n",
        "print(\"--- Runge Kutta 4ª ordem com h = 0.25 ---\")\n",
        "print(runge_kuta_order_4(f1, 0, 1, 2,0.25))\n",
        "pontos = plot_runge_kuta_order_4(f1, 0, 1, 2,0.25)\n",
        "print(\"\\n\")\n",
        "plot(pontos)"
      ],
      "execution_count": 0,
      "outputs": [
        {
          "output_type": "stream",
          "text": [
            "--- Questão 4 ---\n",
            "\n",
            "--- Runge Kutta 4ª ordem com h = 0.25 ---\n",
            "1.9463188103668383\n",
            "\n",
            "\n"
          ],
          "name": "stdout"
        },
        {
          "output_type": "display_data",
          "data": {
            "image/png": "[encoded data removed]",
            "text/plain": [
              "<Figure size 720x540 with 1 Axes>"
            ]
          },
          "metadata": {
            "tags": []
          }
        }
      ]
    },
    {
      "cell_type": "code",
      "metadata": {
        "id": "VmIm7rHuXspw",
        "colab_type": "code",
        "colab": {}
      },
      "source": [
        ""
      ],
      "execution_count": 0,
      "outputs": []
    }
  ]
}