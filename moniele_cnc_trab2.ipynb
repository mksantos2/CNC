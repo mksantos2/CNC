{
  "nbformat": 4,
  "nbformat_minor": 0,
  "metadata": {
    "colab": {
      "name": "moniele_cnc_trab2.ipynb",
      "provenance": [],
      "collapsed_sections": []
    },
    "kernelspec": {
      "name": "python3",
      "display_name": "Python 3"
    }
  },
  "cells": [
    {
      "cell_type": "code",
      "metadata": {
        "id": "oESdhwEcI0CR",
        "colab_type": "code",
        "outputId": "b8e60c45-5fff-4167-b5aa-42c4d6513b20",
        "colab": {
          "base_uri": "https://localhost:8080/",
          "height": 34
        }
      },
      "source": [
        "import math \n",
        "from cmath import e\n",
        "import numpy as np\n",
        "import pylab\n",
        "\n",
        "from scipy import misc\n",
        "import matplotlib.pyplot as plt\n",
        "from numpy import array, zeros, diag, diagflat, dot\n",
        "\n",
        "!mkdir pastinha\n",
        "!ls pastinha\n",
        "\n",
        "from google.colab import files"
      ],
      "execution_count": 0,
      "outputs": [
        {
          "output_type": "stream",
          "text": [
            "mkdir: cannot create directory ‘pastinha’: File exists\n"
          ],
          "name": "stdout"
        }
      ]
    },
    {
      "cell_type": "markdown",
      "metadata": {
        "id": "G9Z97Pn0LnGy",
        "colab_type": "text"
      },
      "source": [
        "#Métodos Diretos\n"
      ]
    },
    {
      "cell_type": "markdown",
      "metadata": {
        "id": "MUkTWUHvLw6-",
        "colab_type": "text"
      },
      "source": [
        "##Método Eliminação de Gauss "
      ]
    },
    {
      "cell_type": "code",
      "metadata": {
        "id": "Zva0mXOqLwFR",
        "colab_type": "code",
        "outputId": "72519188-cf6f-479f-fd0c-632f3e7d415b",
        "colab": {
          "base_uri": "https://localhost:8080/",
          "height": 67
        }
      },
      "source": [
        "def extended_matrix(A,B):\n",
        "    return np.append(A, B, axis=1)\n",
        "\n",
        "def gaussian_elimination(A, B):\n",
        "    \n",
        "    #checa se a matriz é singular\n",
        "    #if is_singular(A):\n",
        "     #   raise ValueException(\"Matriz é singular!\")\n",
        "\n",
        "\n",
        "    U = np.array(extended_matrix(A, B), dtype=\"float64\")\n",
        "\n",
        "    \n",
        "    n = U.shape[0]\n",
        "\n",
        "    # matriz triangularizada\n",
        "    for i in range(n):\n",
        "        for j in range(i + 1, n):\n",
        "            factor = U[j,i] / U[i,i]\n",
        "\n",
        "            for k in range(n + 1):\n",
        "                U[j,k] -= U[i,k] * factor\n",
        "\n",
        "    # diagoniza a matriz\n",
        "    for i in range(n - 1, -1, -1):\n",
        "        for j in range(i - 1, -1, -1):\n",
        "            factor = U[j,i] / U[i,i]\n",
        "\n",
        "            for k in range(n + 1):\n",
        "                U[j,k] -= U[i,k] * factor\n",
        "\n",
        "    \n",
        "    for i in range(n):\n",
        "        U[i,n] /= U[i,i]\n",
        "        U[i,i] /= U[i,i]\n",
        "\n",
        "    # retorna a ultima coluna de x\n",
        "    return U[:,n:n+1]\n",
        "\n",
        "\n",
        "def augment_that_sucker(mat1, mat2):\n",
        "\t\"\"\"\n",
        "\tDuct-tape mat2's columns to the right of mat1\n",
        "\tReturn a new matrix.\n",
        "\t\"\"\"\n",
        "\tretval = []\n",
        "\tfor i in range(len(mat1)):\n",
        "\t\tr = mat1[i]\n",
        "\t\tnewrow = r[:] + mat2[i]\n",
        "\t\tretval.append(newrow)\n",
        "\treturn retval\n",
        "\n",
        "def from_vector(vector):\n",
        "\t\"\"\"\n",
        "\tConvert a vector into a column matrix.\n",
        "\t\"\"\"\n",
        "\tretval = []\n",
        "\tfor r in vector:\n",
        "\t\tretval.append([r])\n",
        "\treturn retval\n",
        "\n",
        "def transpose(mat):\n",
        "\t\"\"\"\n",
        "\tReturn a transposed version of mat.\n",
        "\t\"\"\"\n",
        "\tretval = []\n",
        "\tfor c in range(len(mat[0])):\n",
        "\t\tnewrow = []\n",
        "\t\tfor r in range(len(mat)):\n",
        "\t\t\tnewrow.append(mat[r][c])\n",
        "\t\tretval.append(newrow)\n",
        "\treturn retval\n",
        "\n",
        "\n",
        "\n",
        "mat = np.array([[2,3,-1],[4,4,-3],[2,-3,1]])\n",
        "\n",
        "mat2 = from_vector([5,3,-1])\n",
        "\n",
        "#mattest3 = augment_that_sucker(mattest, mattest2)\t\t\t\n",
        "\n",
        "gaussian_elimination(mat, mat2)\n",
        "\n"
      ],
      "execution_count": 0,
      "outputs": [
        {
          "output_type": "execute_result",
          "data": {
            "text/plain": [
              "array([[1.],\n",
              "       [2.],\n",
              "       [3.]])"
            ]
          },
          "metadata": {
            "tags": []
          },
          "execution_count": 219
        }
      ]
    },
    {
      "cell_type": "markdown",
      "metadata": {
        "id": "korORbJCVarj",
        "colab_type": "text"
      },
      "source": [
        "##LU Decomposição"
      ]
    },
    {
      "cell_type": "code",
      "metadata": {
        "colab_type": "code",
        "id": "h-ayKzEh2FcG",
        "colab": {}
      },
      "source": [
        "def lu(mat):\n",
        "    \n",
        "    n = len(mat)\n",
        "    \n",
        "    lower = [[0 for x in range(n)]  \n",
        "                for y in range(n)]; \n",
        "    upper = [[0 for x in range(n)]  \n",
        "                for y in range(n)]; \n",
        "\n",
        "    # Fatorando a matriz triangular superior e inferior\n",
        "    for i in range(n): \n",
        "\n",
        "        # superior \n",
        "        for k in range(i, n):  \n",
        "\n",
        "            # somatório de L(i, j) * U(j, k) \n",
        "            sum = 0; \n",
        "            for j in range(i): \n",
        "                sum += (lower[i][j] * upper[j][k]); \n",
        "\n",
        "            # calculando U(i, k) \n",
        "            upper[i][k] = mat[i][k] - sum; \n",
        "\n",
        "        # inferior \n",
        "        for k in range(i, n): \n",
        "            if (i == k): \n",
        "                lower[i][i] = 1; \n",
        "            else: \n",
        "\n",
        "                # somátorio de L(k, j) * U(j, i) \n",
        "                sum = 0; \n",
        "                for j in range(i): \n",
        "                    sum += (lower[k][j] * upper[j][i]); \n",
        "\n",
        "                # calculando L(k, i) \n",
        "                lower[k][i] = float((mat[k][i] - sum) /\n",
        "                                       upper[i][i]); \n",
        "\n",
        "    return [lower, upper]"
      ],
      "execution_count": 0,
      "outputs": []
    },
    {
      "cell_type": "code",
      "metadata": {
        "id": "jJw0jXEui4fv",
        "colab_type": "code",
        "colab": {}
      },
      "source": [
        "def sub2(L,U,B):\n",
        "    \n",
        "    # substituicao Ly = B\n",
        "    \n",
        "    y = np.zeros(B.size)\n",
        "    for m, b in enumerate(B.flatten()):\n",
        "        y[m] = b\n",
        "        #print(m)\n",
        "        # skip for loop if m == 0\n",
        "        if m:\n",
        "            for n in range(m):\n",
        "                y[m] -= y[n] * L[m,n]\n",
        "        y[m] /= L[m, m]\n",
        "    #print(y)\n",
        "    # # substituicao Ux = y \n",
        "    \n",
        "    x = np.zeros(B.size)\n",
        "    lastidx = B.size - 1  # ultimo index\n",
        "    for midx in range(B.size):\n",
        "        m = B.size - 1 - midx  \n",
        "        x[m] = y[m]\n",
        "        if midx:\n",
        "            for nidx in range(midx):\n",
        "                n = B.size - 1  - nidx\n",
        "                x[m] -= x[n] * U[m,n]\n",
        "        x[m] /= U[m, m]\n",
        "    return x"
      ],
      "execution_count": 0,
      "outputs": []
    },
    {
      "cell_type": "code",
      "metadata": {
        "id": "SHFXCtdpc8PR",
        "colab_type": "code",
        "colab": {}
      },
      "source": [
        "\n",
        "\n",
        "e1 =np.array( [[4, -1,  3,  8, 43],\n",
        "     [1,  6,  2, -3,  7],\n",
        "     [5,  5,  1,  0,  8],\n",
        "     [2,  4, -2,  1,  8]], dtype = \"float64\")\n",
        "\n",
        "# solução esperada: (2.4426, 3.3934, 3.2459, 5.8033) (https://www.wolframalpha.com/input/?i=4a+-b+%2B3c+%2B+8d+%3D+43%2C+a+%2B+6b+%2B+2c+-3d+%3D+7%2C+2a+%2B+4b+-2c+%2B+d+%3D+8%2C+5a+%2B+5b+%2Bc+%3D+8)\n",
        "m = np.array([[3,2,4,1],[1,1,2,2],[4,3,-2,3]])\n",
        "#lu = lu(e1)\n",
        "\n",
        "\n",
        "#b = np.array([1,2,3])\n",
        "#b =  np.array([43,7,8,8])\n",
        "#print(lu[0])\n",
        "#print(lu[1])\n",
        "\n",
        "#print(np.array_str(sub2(np.around(lu[0], decimals=6), np.around(lu[1], decimals=6), b), precision = 4) )\n",
        "#print(np.array_str(sub2(np.around(lu[0], decimals=6), np.around(lu[1], decimals=6), b), precision = 4) )\n"
      ],
      "execution_count": 0,
      "outputs": []
    },
    {
      "cell_type": "markdown",
      "metadata": {
        "id": "DCZodkABLy8z",
        "colab_type": "text"
      },
      "source": [
        "##Cholesky"
      ]
    },
    {
      "cell_type": "code",
      "metadata": {
        "id": "5UEFVpU-eEGW",
        "colab_type": "code",
        "outputId": "8cec1f99-8495-41f4-ada6-b2ed9c0afa5e",
        "colab": {
          "base_uri": "https://localhost:8080/",
          "height": 87
        }
      },
      "source": [
        " def cholesky(A):    \n",
        "    n = len(A)\n",
        "    \n",
        "    L = [[0.0] * n for i in range(n)]\n",
        "    \n",
        "    for i in range(n):\n",
        "        for k in range(i+1):\n",
        "            suma = sum(L[i][j]* L[k][j] for j in range(k))\n",
        "\n",
        "            if (i==k):\n",
        "                L[i][k] = math.sqrt(A[i][i] - suma)\n",
        "            else:\n",
        "                L[i][k] = (1.0 / L[k][k]* (A[i][k] - suma))\n",
        "\n",
        "    return L \n",
        "\n",
        "\n",
        "A= np.array([[ 9, -6,  3, -3],[-6, 29, -7, -8],[ 3, -7, 18, 33]])\n",
        "B = np.array([-3,-8,33])\n",
        "g = cholesky(A)\n",
        "gt = transpose(g)\n",
        "\n",
        "#print(A)\n",
        "\n",
        "\n",
        "print(np.array_str(sub2(np.around(g, decimals=6), np.around(gt, decimals=6), B), precision = 4) )\n"
      ],
      "execution_count": 0,
      "outputs": [
        {
          "output_type": "stream",
          "text": [
            "[-1.  0.  2.]\n"
          ],
          "name": "stdout"
        },
        {
          "output_type": "stream",
          "text": [
            "/usr/local/lib/python3.6/dist-packages/ipykernel_launcher.py:8: DeprecationWarning: Calling np.sum(generator) is deprecated, and in the future will give a different result. Use np.sum(np.fromiter(generator)) or the python sum builtin instead.\n",
            "  \n"
          ],
          "name": "stderr"
        }
      ]
    },
    {
      "cell_type": "markdown",
      "metadata": {
        "id": "Bgjlug50MjaR",
        "colab_type": "text"
      },
      "source": [
        "## Resolução da Lista 6"
      ]
    },
    {
      "cell_type": "markdown",
      "metadata": {
        "id": "9GniWjYjMu-j",
        "colab_type": "text"
      },
      "source": [
        "###Exercício 1"
      ]
    },
    {
      "cell_type": "code",
      "metadata": {
        "id": "St1PWU4lM1K0",
        "colab_type": "code",
        "outputId": "8e9a7da7-cb2d-4ea8-cb35-a177822779df",
        "colab": {
          "base_uri": "https://localhost:8080/",
          "height": 67
        }
      },
      "source": [
        "mat = np.array([[-2,  3,  1, -5],[ 2,  1, -4, -9],[ 7, 10, -6,  2]])\n",
        "\n",
        "mat2 = from_vector([-5,-9,2])\n",
        "\n",
        "\n",
        "gaussian_elimination(mat,mat2)"
      ],
      "execution_count": 0,
      "outputs": [
        {
          "output_type": "execute_result",
          "data": {
            "text/plain": [
              "array([[ 4.34951456],\n",
              "       [-0.22330097],\n",
              "       [ 4.36893204]])"
            ]
          },
          "metadata": {
            "tags": []
          },
          "execution_count": 224
        }
      ]
    },
    {
      "cell_type": "code",
      "metadata": {
        "id": "klxT-K8zNTxb",
        "colab_type": "code",
        "outputId": "789d276a-2100-40a4-efa9-0bbbb02fde15",
        "colab": {
          "base_uri": "https://localhost:8080/",
          "height": 84
        }
      },
      "source": [
        "\n",
        "mat = [[ 1, -3,  5,  6,  17],[-9,  4, -1,  0,  29],[ 3,  2, -2,  7, -11],[ 1,  2,  5, -4,  7 ]]\n",
        "\n",
        "mat2 = from_vector([17,29,-11,7])\n",
        "\n",
        "\n",
        "\n",
        "\n",
        "gaussian_elimination(mat,mat2)"
      ],
      "execution_count": 0,
      "outputs": [
        {
          "output_type": "execute_result",
          "data": {
            "text/plain": [
              "array([[-3.64516129],\n",
              "       [-0.21935484],\n",
              "       [ 2.92903226],\n",
              "       [ 0.89032258]])"
            ]
          },
          "metadata": {
            "tags": []
          },
          "execution_count": 225
        }
      ]
    },
    {
      "cell_type": "code",
      "metadata": {
        "id": "hfimNURBPFhi",
        "colab_type": "code",
        "outputId": "65d3e0c8-cfc7-4a0e-8141-3862d9856fce",
        "colab": {
          "base_uri": "https://localhost:8080/",
          "height": 84
        }
      },
      "source": [
        "mat = [[-2, 3,  1,  5,  2], [ 5, 1, -1,  0, -1],[ 1, 6,  3, -1,  0],[ 4, 5,  2,  8,  6]]\n",
        "\n",
        "mat2 = from_vector([2,-1,0,6])\n",
        "\n",
        "\n",
        "gaussian_elimination(mat,mat2)"
      ],
      "execution_count": 0,
      "outputs": [
        {
          "output_type": "execute_result",
          "data": {
            "text/plain": [
              "array([[ 0.31421446],\n",
              "       [-0.81795511],\n",
              "       [ 1.75311721],\n",
              "       [ 0.66583541]])"
            ]
          },
          "metadata": {
            "tags": []
          },
          "execution_count": 226
        }
      ]
    },
    {
      "cell_type": "code",
      "metadata": {
        "id": "hNMAJV9bPcWJ",
        "colab_type": "code",
        "outputId": "2dd4039a-d38f-4848-ec94-c4c2f66b1aa0",
        "colab": {
          "base_uri": "https://localhost:8080/",
          "height": 151
        }
      },
      "source": [
        "#erro por causa do pivotamento\n",
        "mat = [[ 0,  1, 3,  2, 4,  3],[ 8, -2, 9, -1, 2, -5],[ 5,  1, 1,  7, 2,  6],[-2,  4, 5,  1, 0, -1],[ 7, -3, 2, -4, 1,  8]]\n",
        "\n",
        "mat2 = from_vector([3,-5,6,-1,8])\n",
        "\n",
        "\n",
        "gaussian_elimination(mat,mat2)"
      ],
      "execution_count": 0,
      "outputs": [
        {
          "output_type": "stream",
          "text": [
            "/usr/local/lib/python3.6/dist-packages/ipykernel_launcher.py:19: RuntimeWarning: divide by zero encountered in double_scalars\n",
            "/usr/local/lib/python3.6/dist-packages/ipykernel_launcher.py:22: RuntimeWarning: invalid value encountered in double_scalars\n",
            "/usr/local/lib/python3.6/dist-packages/ipykernel_launcher.py:19: RuntimeWarning: invalid value encountered in double_scalars\n"
          ],
          "name": "stderr"
        },
        {
          "output_type": "execute_result",
          "data": {
            "text/plain": [
              "array([[nan],\n",
              "       [nan],\n",
              "       [nan],\n",
              "       [nan],\n",
              "       [nan]])"
            ]
          },
          "metadata": {
            "tags": []
          },
          "execution_count": 227
        }
      ]
    },
    {
      "cell_type": "markdown",
      "metadata": {
        "colab_type": "text",
        "id": "Brh1wTCOOXLg"
      },
      "source": [
        "###Exercício 2"
      ]
    },
    {
      "cell_type": "code",
      "metadata": {
        "id": "qqYA_-AFQKeP",
        "colab_type": "code",
        "outputId": "837ce308-a74b-4b31-b84c-972903391863",
        "colab": {
          "base_uri": "https://localhost:8080/",
          "height": 34
        }
      },
      "source": [
        "\n",
        "\n",
        "e1 =np.array( [[4, -1,  3,  8, 43],[1,  6,  2, -3,  7],[5,  5,  1,  0,  8], [2,  4, -2,  1,  8]], dtype = \"float64\")\n",
        "\n",
        "a = lu(e1)\n",
        "\n",
        "b =  np.array([43,7,8,8])\n",
        "\n",
        "\n",
        "print(np.array_str(sub2(np.around(a[0], decimals=6), np.around(a[1], decimals=6), b), precision = 4) )\n"
      ],
      "execution_count": 0,
      "outputs": [
        {
          "output_type": "stream",
          "text": [
            "[-2.4426  3.3934  3.2459  5.8033]\n"
          ],
          "name": "stdout"
        }
      ]
    },
    {
      "cell_type": "code",
      "metadata": {
        "id": "MOsXfpHPR3QF",
        "colab_type": "code",
        "outputId": "7b23391c-fcbe-440d-829a-377f63360ad7",
        "colab": {
          "base_uri": "https://localhost:8080/",
          "height": 34
        }
      },
      "source": [
        "\n",
        "e2 = np.array( [[ 3, -2, -1,  7,  3,  45],[-1,  1,  3, -2, -3,  -8], [ 8,  4, -1,  0,  2,   8], [ 2, -3,  2,  5,  0, -18],[-1,  3,  0, -8, -2,   0]], dtype = \"float64\")\n",
        "\n",
        "q2 = lu(e2)\n",
        "\n",
        "b =  np.array([45,-8,8,-18,0])\n",
        "\n",
        "\n",
        "print(np.array_str(sub2(np.around(q2[0], decimals=6), np.around(q2[1], decimals=6), b), precision = 4) )\n"
      ],
      "execution_count": 0,
      "outputs": [
        {
          "output_type": "stream",
          "text": [
            "[-68.3801  27.4996 280.0796 -71.7799 362.5595]\n"
          ],
          "name": "stdout"
        }
      ]
    },
    {
      "cell_type": "code",
      "metadata": {
        "id": "uhXYwMoyUvge",
        "colab_type": "code",
        "outputId": "33db186a-f0e2-4291-dbea-00a23fe69187",
        "colab": {
          "base_uri": "https://localhost:8080/",
          "height": 34
        }
      },
      "source": [
        "\n",
        "e2 = np.array( [[ 4, 12, 14,  5,  2,  -1, 102],[ 1, -3, 12,  2,  3,  -2, 105],[-2,  4, 10, 10, -2,   0, -67],[ 7, -3, -5, 12,  8,  10,  18],[10,  7,  1,  8, 12,  -8, 100],[ 8, 10,  0, 11, -2,  15, -90]], dtype = \"float64\")\n",
        "\n",
        "q3 = lu(e2)\n",
        "\n",
        "b =  np.array([102,105,-67,18,100,-90])\n",
        "\n",
        "\n",
        "print(np.array_str(sub2(np.around(q3[0], decimals=6), np.around(q3[1], decimals=6), b), precision = 4) )\n"
      ],
      "execution_count": 0,
      "outputs": [
        {
          "output_type": "stream",
          "text": [
            "[ -5.756    3.4637   7.4739 -12.1049  23.0287   6.7081]\n"
          ],
          "name": "stdout"
        }
      ]
    },
    {
      "cell_type": "markdown",
      "metadata": {
        "colab_type": "text",
        "id": "JMQ88VB5O88y"
      },
      "source": [
        "###Exercício 3"
      ]
    },
    {
      "cell_type": "code",
      "metadata": {
        "id": "Kog0864rVK2M",
        "colab_type": "code",
        "outputId": "13b552e5-a926-4c07-e425-f3bdda74321f",
        "colab": {
          "base_uri": "https://localhost:8080/",
          "height": 87
        }
      },
      "source": [
        "\n",
        "A= np.array([[ 9, -6,  3, -3],[-6, 29, -7, -8],[ 3, -7, 18, 33]])\n",
        "B = np.array([-3,-8,33])\n",
        "g = cholesky(A)\n",
        "gt = transpose(g)\n",
        "\n",
        "#print(A)\n",
        "\n",
        "\n",
        "print(np.array_str(sub2(np.around(g, decimals=6), np.around(gt, decimals=6), B), precision = 4) )\n"
      ],
      "execution_count": 0,
      "outputs": [
        {
          "output_type": "stream",
          "text": [
            "[-1.  0.  2.]\n"
          ],
          "name": "stdout"
        },
        {
          "output_type": "stream",
          "text": [
            "/usr/local/lib/python3.6/dist-packages/ipykernel_launcher.py:8: DeprecationWarning: Calling np.sum(generator) is deprecated, and in the future will give a different result. Use np.sum(np.fromiter(generator)) or the python sum builtin instead.\n",
            "  \n"
          ],
          "name": "stderr"
        }
      ]
    },
    {
      "cell_type": "code",
      "metadata": {
        "id": "-FG0NGPSVdXB",
        "colab_type": "code",
        "outputId": "e2499fd0-eb45-47f3-b251-519f3322d915",
        "colab": {
          "base_uri": "https://localhost:8080/",
          "height": 87
        }
      },
      "source": [
        "\n",
        "A= np.array([[ 4, -2,  4, 10,  2],[-2,  3, -1, -7,  2],[ 4, -1, 14, 11, -1],[10, -7, 11, 31, -2]])\n",
        "B = np.array([2,2,-1,-2])\n",
        "g = cholesky(A)\n",
        "gt = transpose(g)\n",
        "\n",
        "#print(A)\n",
        "\n",
        "\n",
        "print(np.array_str(sub2(np.around(g, decimals=6), np.around(gt, decimals=6), B), precision = 4) )\n"
      ],
      "execution_count": 0,
      "outputs": [
        {
          "output_type": "stream",
          "text": [
            "[ 3.3235  0.7941 -0.2941 -0.8529]\n"
          ],
          "name": "stdout"
        },
        {
          "output_type": "stream",
          "text": [
            "/usr/local/lib/python3.6/dist-packages/ipykernel_launcher.py:8: DeprecationWarning: Calling np.sum(generator) is deprecated, and in the future will give a different result. Use np.sum(np.fromiter(generator)) or the python sum builtin instead.\n",
            "  \n"
          ],
          "name": "stderr"
        }
      ]
    },
    {
      "cell_type": "code",
      "metadata": {
        "id": "Pl69t9iHVrfY",
        "colab_type": "code",
        "outputId": "b303a58f-933c-46a9-8ff6-5ad2c6390572",
        "colab": {
          "base_uri": "https://localhost:8080/",
          "height": 87
        }
      },
      "source": [
        "\n",
        "A= np.array([[ 1,  2,  -3, 0,   3,  17],[ 2,  5,  -1, 1,   4,  41],[-3, -1,  50, 1, -19, -45],[ 0,  1,   1, 6,   0,  30],[ 3,  4, -19, 0,   39, 51]])\n",
        "B = np.array([17,41,-45,30,51])\n",
        "g = cholesky(A)\n",
        "gt = transpose(g)\n",
        "\n",
        "#print(A)\n",
        "\n",
        "\n",
        "print(np.array_str(sub2(np.around(g, decimals=6), np.around(gt, decimals=6), B), precision = 4) )\n"
      ],
      "execution_count": 0,
      "outputs": [
        {
          "output_type": "stream",
          "text": [
            "[-2.2487  7.9688 -0.8588  3.815   0.245 ]\n"
          ],
          "name": "stdout"
        },
        {
          "output_type": "stream",
          "text": [
            "/usr/local/lib/python3.6/dist-packages/ipykernel_launcher.py:8: DeprecationWarning: Calling np.sum(generator) is deprecated, and in the future will give a different result. Use np.sum(np.fromiter(generator)) or the python sum builtin instead.\n",
            "  \n"
          ],
          "name": "stderr"
        }
      ]
    },
    {
      "cell_type": "markdown",
      "metadata": {
        "id": "Oe7UUDh3XNF6",
        "colab_type": "text"
      },
      "source": [
        "#Métodos Iterativos"
      ]
    },
    {
      "cell_type": "markdown",
      "metadata": {
        "id": "B8VbkSyXxqtS",
        "colab_type": "text"
      },
      "source": [
        "##Linear"
      ]
    },
    {
      "cell_type": "markdown",
      "metadata": {
        "id": "WunZtJ-BXVG0",
        "colab_type": "text"
      },
      "source": [
        "##Gauss Jacobi"
      ]
    },
    {
      "cell_type": "code",
      "metadata": {
        "id": "UZIfO7e9e4Kd",
        "colab_type": "code",
        "outputId": "b897843d-f4f5-49f4-af36-0e904736c89a",
        "colab": {
          "base_uri": "https://localhost:8080/",
          "height": 84
        }
      },
      "source": [
        "def gauss_jacobi(A,b,N=4,x=None):\n",
        "    list = []                                                                                                                                                          \n",
        "    if x is None:\n",
        "        x = zeros(len(A[0]))\n",
        "                                                                                                                                                                   \n",
        "    D = diag(A)\n",
        "    R = A - diagflat(D)\n",
        "                                                                                                                                                                        \n",
        "    for i in range(N):\n",
        "        x = (b - dot(R,x)) / D\n",
        "        list.append(x)\n",
        "    return list\n",
        "\n",
        "A = np.array([[2.0,1.0],[5.0,7.0]])\n",
        "b = np.array([11.0,13.0])\n",
        "\n",
        "guess = np.array([1.0,1.0])\n",
        "\n",
        "gauss_jacobi(A,b,N=4,x=guess)\n"
      ],
      "execution_count": 0,
      "outputs": [
        {
          "output_type": "execute_result",
          "data": {
            "text/plain": [
              "[array([5.        , 1.14285714]),\n",
              " array([ 4.92857143, -1.71428571]),\n",
              " array([ 6.35714286, -1.66326531]),\n",
              " array([ 6.33163265, -2.68367347])]"
            ]
          },
          "metadata": {
            "tags": []
          },
          "execution_count": 234
        }
      ]
    },
    {
      "cell_type": "code",
      "metadata": {
        "id": "yXR3amkwhgGH",
        "colab_type": "code",
        "colab": {}
      },
      "source": [
        "#a)\n",
        "#m = np.array([[1,  1,  3],[1, -3, -3]], dtype = \"float64\")\n",
        "A = np.array([[1,1],[1,-3]])\n",
        "b = np.array([3,-3])\n",
        "guess = np.array([1.0,1.0])    \n",
        "\n",
        "\n",
        "lista_j1 = gauss_jacobi(A,b,N=4,x=guess)"
      ],
      "execution_count": 0,
      "outputs": []
    },
    {
      "cell_type": "code",
      "metadata": {
        "colab_type": "code",
        "id": "DKosgDEghL_2",
        "colab": {}
      },
      "source": [
        "#b)\n",
        "#m = np.array([[1,  1,  3],[1, -3, -3]], dtype = \"float64\")\n",
        "A = np.array([[1,-3],[1,1]])\n",
        "b = np.array([-3,3])\n",
        "guess = np.array([1.0,1.0])     \n",
        "\n",
        "\n",
        "lista_j2 = gauss_jacobi(A,b,N=4,x=guess)"
      ],
      "execution_count": 0,
      "outputs": []
    },
    {
      "cell_type": "code",
      "metadata": {
        "colab_type": "code",
        "id": "G_chGO_zhU_J",
        "colab": {}
      },
      "source": [
        "#c)\n",
        "#m = np.array([[1,  1,  3],[1, -3, -3]], dtype = \"float64\")\n",
        "A = np.array([[2,5],[3,1]])\n",
        "b = np.array([-3,2])\n",
        "guess = np.array([1.0,1.0])      \n",
        "\n",
        "\n",
        "lista_j3 = gauss_jacobi(A,b,N=4,x=guess)"
      ],
      "execution_count": 0,
      "outputs": []
    },
    {
      "cell_type": "code",
      "metadata": {
        "colab_type": "code",
        "id": "pliuNTTNhbgm",
        "colab": {}
      },
      "source": [
        "#d)\n",
        "A = np.array([[3,1],[2,5]])\n",
        "b = np.array([2,-3])\n",
        "guess = np.array([1.0,1.0])     \n",
        "\n",
        "\n",
        "lista_j4 = gauss_jacobi(A,b,N=4,x=guess)"
      ],
      "execution_count": 0,
      "outputs": []
    },
    {
      "cell_type": "markdown",
      "metadata": {
        "id": "2VkiDbT3XY65",
        "colab_type": "text"
      },
      "source": [
        "##Gauss Seidel"
      ]
    },
    {
      "cell_type": "code",
      "metadata": {
        "id": "4-2PndQ5pyM6",
        "colab_type": "code",
        "outputId": "83eb4c8c-55a1-49df-ad7e-421c712f53be",
        "colab": {
          "base_uri": "https://localhost:8080/",
          "height": 134
        }
      },
      "source": [
        "def gauss_seidel(A, b, x, N, tol):\n",
        "    \n",
        "    maxI = 4\n",
        "    xprev = [0.0 for i in range(N)]\n",
        "    lista = []\n",
        "    for i in range(maxI):\n",
        "\n",
        "        for j in range(N):\n",
        "            xprev[j] = x[j]\n",
        "        for j in range(N):\n",
        "            summ = 0.0\n",
        "            for k in range(N):\n",
        "                if (k != j):\n",
        "                    summ = summ + A[j][k] * x[k]\n",
        "            x[j] = (b[j] - summ) / A[j][j]\n",
        "            #lista.append(x)\n",
        "\n",
        "        diff1norm = 0.0\n",
        "        oldnorm = 0.0\n",
        "        lista.extend(x)\n",
        "        #print(x)\n",
        "\n",
        "        for j in range(N):\n",
        "            diff1norm = diff1norm + abs(x[j] - xprev[j])\n",
        "            oldnorm = oldnorm + abs(xprev[j])  \n",
        "        if oldnorm == 0.0:\n",
        "            oldnorm = 1.0\n",
        "        norm = diff1norm / oldnorm\n",
        "        if (norm < tol) and i != 0:\n",
        "            print(\"Convergiu em [\", end=\"\")\n",
        "            for j in range(N - 1):\n",
        "                print(x[j], \",\", end=\"\")\n",
        "            print(x[N - 1], \"]. Levou\", i + 1, \"iteracoes.\")\n",
        "            return\n",
        "    li = [0]*4\n",
        "    for i in range(4):\n",
        "        li[i] = [lista[i], lista[i+1]]\n",
        "\n",
        "\n",
        "    print(\"Não convergiu D:\")\n",
        "    return li\n",
        "    \n",
        "    \n",
        "                \n",
        "\n",
        "matrix2 = [[3.0, 1.0], [2.0, 6.0]]\n",
        "vector2 = [5.0, 9.0]\n",
        "guess = [0.0, 0.0]\n",
        "\n",
        "matrix3 = [[9.0, -3.0], [-2.0, 8.0]]\n",
        "vector3 = [6.0, -4.0]\n",
        "\n",
        "\n",
        "matrix4 = [[1.0, -3.0], [-2.0, 8.0]]\n",
        "\n",
        "gauss_seidel(matrix2, vector2, guess, 2, 0.00001)\n",
        "gauss_seidel(matrix3, vector3, guess, 2, 0.00001)\n",
        "gauss_seidel(matrix4, vector3, guess, 2, 0.00001)"
      ],
      "execution_count": 0,
      "outputs": [
        {
          "output_type": "stream",
          "text": [
            "Não convergiu D:\n",
            "Não convergiu D:\n",
            "Não convergiu D:\n"
          ],
          "name": "stdout"
        },
        {
          "output_type": "execute_result",
          "data": {
            "text/plain": [
              "[[4.909297213260738, 0.7273243033151846],\n",
              " [0.7273243033151846, 8.181972909945554],\n",
              " [8.181972909945554, 1.5454932274863884],\n",
              " [1.5454932274863884, 10.636479682459164]]"
            ]
          },
          "metadata": {
            "tags": []
          },
          "execution_count": 244
        }
      ]
    },
    {
      "cell_type": "code",
      "metadata": {
        "id": "ylGhos6HweA3",
        "colab_type": "code",
        "outputId": "bc7ae058-892e-4d7b-a8bb-c4f4617cc3ba",
        "colab": {
          "base_uri": "https://localhost:8080/",
          "height": 34
        }
      },
      "source": [
        "#a) \n",
        "\n",
        "A = np.array([[1,1],[1,-3]])\n",
        "b = np.array([3,-3])\n",
        "guess = np.array([1.0,1.0])    \n",
        "lista_s1 = gauss_seidel(A,b, guess, 2, 0.00000000000001)"
      ],
      "execution_count": 0,
      "outputs": [
        {
          "output_type": "stream",
          "text": [
            "Não convergiu D:\n"
          ],
          "name": "stdout"
        }
      ]
    },
    {
      "cell_type": "code",
      "metadata": {
        "colab_type": "code",
        "outputId": "15e91705-4186-46c4-fe25-d1c0484abbf8",
        "id": "yQSVLjsSgk6x",
        "colab": {
          "base_uri": "https://localhost:8080/",
          "height": 34
        }
      },
      "source": [
        "#b) \n",
        "\n",
        "A = np.array([[1,-3],[1,1]])\n",
        "b = np.array([-3,3])\n",
        "guess = np.array([1.0,1.0])    \n",
        "lista_s2 =gauss_seidel(A,b, guess, 2, 0.00000000000001)"
      ],
      "execution_count": 0,
      "outputs": [
        {
          "output_type": "stream",
          "text": [
            "Não convergiu D:\n"
          ],
          "name": "stdout"
        }
      ]
    },
    {
      "cell_type": "code",
      "metadata": {
        "colab_type": "code",
        "outputId": "cff545ad-c42e-4b02-b703-816539573af2",
        "id": "ViziWTxdgyDe",
        "colab": {
          "base_uri": "https://localhost:8080/",
          "height": 34
        }
      },
      "source": [
        "#c) \n",
        "\n",
        "A = np.array([[2,5],[3,1]])\n",
        "b = np.array([-3,2])\n",
        "guess = np.array([1.0,1.0])    \n",
        "lista_s3 =gauss_seidel(A,b, guess, 2, 0.00000000000001)"
      ],
      "execution_count": 0,
      "outputs": [
        {
          "output_type": "stream",
          "text": [
            "Não convergiu D:\n"
          ],
          "name": "stdout"
        }
      ]
    },
    {
      "cell_type": "code",
      "metadata": {
        "colab_type": "code",
        "outputId": "a334f032-1054-451c-baba-85160bc8b09e",
        "id": "UMBT_V4gg6h3",
        "colab": {
          "base_uri": "https://localhost:8080/",
          "height": 34
        }
      },
      "source": [
        "#d) \n",
        "\n",
        "A = np.array([[3,1],[2,5]])\n",
        "b = np.array([2,-3])\n",
        "guess = np.array([1.0,1.0])    \n",
        "lista_s4 =gauss_seidel(A,b, guess, 2, 0.00000000000001)"
      ],
      "execution_count": 0,
      "outputs": [
        {
          "output_type": "stream",
          "text": [
            "Não convergiu D:\n"
          ],
          "name": "stdout"
        }
      ]
    },
    {
      "cell_type": "markdown",
      "metadata": {
        "id": "9CXQgf68xtWE",
        "colab_type": "text"
      },
      "source": [
        "##Não Linear"
      ]
    },
    {
      "cell_type": "markdown",
      "metadata": {
        "id": "qI-dda6qXeV6",
        "colab_type": "text"
      },
      "source": [
        "##Newton"
      ]
    },
    {
      "cell_type": "code",
      "metadata": {
        "id": "hdDxwV_ixklp",
        "colab_type": "code",
        "colab": {}
      },
      "source": [
        "def Newton(F, J, x, eps):\n",
        "    F_value = F(x)\n",
        "    F_norm = np.linalg.norm(F_value, ord=3) \n",
        "    iteration_counter = 0\n",
        "    while abs(F_norm) > eps and iteration_counter < 100:\n",
        "        delta = np.linalg.solve(J(x), -F_value)\n",
        "        x = x + delta\n",
        "        F_value = F(x)\n",
        "        F_norm = np.linalg.norm(F_value, ord=3)\n",
        "        iteration_counter += 1\n",
        "\n",
        "    \n",
        "    if abs(F_norm) > eps:\n",
        "        iteration_counter = -1\n",
        "    return x, iteration_counter"
      ],
      "execution_count": 0,
      "outputs": []
    },
    {
      "cell_type": "code",
      "metadata": {
        "id": "rKjwrJ41Jw1m",
        "colab_type": "code",
        "outputId": "c086042f-9f3a-4230-f0d8-a16c9644b72e",
        "colab": {
          "base_uri": "https://localhost:8080/",
          "height": 50
        }
      },
      "source": [
        "\n",
        "def test():\n",
        "    from numpy import cos, sin, pi, exp\n",
        "\n",
        "    def F(x):\n",
        "        return np.array(\n",
        "            [x[0]**2 - x[1] + x[0]*cos(pi*x[0]),\n",
        "             x[0]*x[1] + exp(-x[1]) - x[0]**(-1)], dtype='float32')\n",
        "\n",
        "    def J(x):\n",
        "        return np.array(\n",
        "            [[2*x[0] + cos(pi*x[0]) - pi*x[0]*sin(pi*x[0]), -1],\n",
        "             [x[1] + x[0]**(-2), x[0] - exp(-x[1])]],dtype='float32')\n",
        "\n",
        "    expected = np.array([1, 0], dtype='float32')\n",
        "    tol = 1e-4\n",
        "    x, n = Newton(F, J, x=np.array([2, -1], dtype='float32'), eps=0.0001)\n",
        "    print (n, x)\n",
        "    error_norm = np.linalg.norm(expected - x, ord=2)\n",
        "    assert error_norm < tol, 'norm of error =%g' % error_norm\n",
        "    print ('norm of error =%g' % error_norm)\n",
        "    \n",
        "test()"
      ],
      "execution_count": 0,
      "outputs": [
        {
          "output_type": "stream",
          "text": [
            "4 [ 1.0000001e+00 -1.0078074e-06]\n",
            "norm of error =1.01483e-06\n"
          ],
          "name": "stdout"
        }
      ]
    },
    {
      "cell_type": "markdown",
      "metadata": {
        "id": "rrtNZn_K7W2M",
        "colab_type": "text"
      },
      "source": [
        "##Gráficos\n"
      ]
    },
    {
      "cell_type": "code",
      "metadata": {
        "id": "6m8rxSDE9I-C",
        "colab_type": "code",
        "colab": {}
      },
      "source": [
        "def plot(sistema, lista, horizontalWindow = (None, None), resolution = 100):\n",
        "    approximation_array = np.array(lista)\n",
        "    a, b = horizontalWindow\n",
        "    \n",
        "    \n",
        "    if not a:\n",
        "        a = approximation_array[:, 0].min()\n",
        "        b = approximation_array[:, 0].max()\n",
        "\n",
        "    A = np.array(sistema, dtype=\"float64\")\n",
        "    f1 = lambda x1: (A[0, 2] - A[0, 0]*x1) / A[0, 1]\n",
        "    \n",
        "    f2 = lambda x2: (A[1, 2] - A[1, 0]*x2) / A[1, 1]\n",
        "\n",
        "    xs = np.linspace(a, b, resolution)\n",
        "    y1 = list(map(f1, xs))\n",
        "    y2 = list(map(f2, xs))\n",
        "    \n",
        "    fig = plt.figure(figsize = (10,10))\n",
        "    ax = fig.add_subplot(111)\n",
        "\n",
        "    plt.plot(xs, y1, '-r', label='y = 3 - x')\n",
        "    plt.plot(xs, y2, '-b', label='y2 = (x + 3) / 3')\n",
        "\n",
        "    left,right = ax.get_xlim()\n",
        "    low,high = ax.get_ylim()\n",
        "    pylab.arrow( left, 0, right -left, 0, length_includes_head = True, head_width = 0.15 )\n",
        "    pylab.arrow( 0, low, 0, high-low, length_includes_head = True, head_width = 0.15 )\n",
        "\n",
        "    for i, ponto in enumerate(lista):\n",
        "        x,y = ponto\n",
        "        plt.plot(x, y, '.g')\n",
        "        ax.annotate('x('+str(i)+')', (x, y))\n",
        "        \n",
        " "
      ],
      "execution_count": 0,
      "outputs": []
    },
    {
      "cell_type": "markdown",
      "metadata": {
        "id": "gNxO3dg5kr46",
        "colab_type": "text"
      },
      "source": [
        "##Jacobi"
      ]
    },
    {
      "cell_type": "code",
      "metadata": {
        "id": "SlsTPXsIi5-n",
        "colab_type": "code",
        "outputId": "ca0c3d7a-9938-437e-de39-6792f148bbb7",
        "colab": {
          "base_uri": "https://localhost:8080/",
          "height": 596
        }
      },
      "source": [
        "       \n",
        "plot(np.array([[1,  1,  3],\n",
        "        [1, -3, -3]], dtype=\"float64\"), np.array(lista_j1,dtype=\"float64\") )"
      ],
      "execution_count": 0,
      "outputs": [
        {
          "output_type": "display_data",
          "data": {
            "image/png": "[encoded data removed]",
            "text/plain": [
              "<Figure size 720x720 with 1 Axes>"
            ]
          },
          "metadata": {
            "tags": []
          }
        }
      ]
    },
    {
      "cell_type": "code",
      "metadata": {
        "id": "y4VSchaBkLb1",
        "colab_type": "code",
        "outputId": "5ef517eb-5a66-47a2-a3e5-6c80bd38b859",
        "colab": {
          "base_uri": "https://localhost:8080/",
          "height": 595
        }
      },
      "source": [
        "       \n",
        "plot(np.array([[1, -3, -3],\n",
        "        [1,  1,  3]], dtype=\"float64\"), np.array(lista_j2,dtype=\"float64\") )"
      ],
      "execution_count": 0,
      "outputs": [
        {
          "output_type": "display_data",
          "data": {
            "image/png": "[encoded data removed]",
            "text/plain": [
              "<Figure size 720x720 with 1 Axes>"
            ]
          },
          "metadata": {
            "tags": []
          }
        }
      ]
    },
    {
      "cell_type": "code",
      "metadata": {
        "id": "GeZ26FW0lJ54",
        "colab_type": "code",
        "outputId": "9425eb0c-d282-488f-c274-03ba09981904",
        "colab": {
          "base_uri": "https://localhost:8080/",
          "height": 595
        }
      },
      "source": [
        "       \n",
        "plot(np.array([[2, 5, -3],\n",
        "        [3, 1,  2]], dtype=\"float64\"), np.array(lista_j3,dtype=\"float64\") )"
      ],
      "execution_count": 0,
      "outputs": [
        {
          "output_type": "display_data",
          "data": {
            "image/png": "[encoded data removed]",
            "text/plain": [
              "<Figure size 720x720 with 1 Axes>"
            ]
          },
          "metadata": {
            "tags": []
          }
        }
      ]
    },
    {
      "cell_type": "code",
      "metadata": {
        "id": "ropslQbzlRnt",
        "colab_type": "code",
        "outputId": "e91ff0bd-7345-47e1-fc68-a64eab459a28",
        "colab": {
          "base_uri": "https://localhost:8080/",
          "height": 595
        }
      },
      "source": [
        "       \n",
        "plot(np.array([[3, 1,  2],\n",
        "           [2, 5, -3]], dtype=\"float64\"), np.array(lista_j4,dtype=\"float64\") )"
      ],
      "execution_count": 0,
      "outputs": [
        {
          "output_type": "display_data",
          "data": {
            "image/png": "[encoded data removed]",
            "text/plain": [
              "<Figure size 720x720 with 1 Axes>"
            ]
          },
          "metadata": {
            "tags": []
          }
        }
      ]
    },
    {
      "cell_type": "markdown",
      "metadata": {
        "id": "uqvsga99lcj4",
        "colab_type": "text"
      },
      "source": [
        "##Seidel"
      ]
    },
    {
      "cell_type": "code",
      "metadata": {
        "id": "BaAxXmHWlWaO",
        "colab_type": "code",
        "outputId": "ee40d083-e4cc-4b67-b04a-62000fe76153",
        "colab": {
          "base_uri": "https://localhost:8080/",
          "height": 596
        }
      },
      "source": [
        "plot(np.array([[1,  1,  3],\n",
        "        [1, -3, -3]], dtype=\"float64\"), np.array(lista_s1,dtype=\"float64\") )"
      ],
      "execution_count": 0,
      "outputs": [
        {
          "output_type": "display_data",
          "data": {
            "image/png": "[encoded data removed]",
            "text/plain": [
              "<Figure size 720x720 with 1 Axes>"
            ]
          },
          "metadata": {
            "tags": []
          }
        }
      ]
    },
    {
      "cell_type": "code",
      "metadata": {
        "id": "3EIZ8ZJ1tXNq",
        "colab_type": "code",
        "outputId": "6b0ed369-ef2f-4d50-eb83-1c8ca3a2f386",
        "colab": {
          "base_uri": "https://localhost:8080/",
          "height": 595
        }
      },
      "source": [
        "plot(np.array([[1, -3, -3],\n",
        "        [1,  1,  3]], dtype=\"float64\"), np.array(lista_s2,dtype=\"float64\") )"
      ],
      "execution_count": 0,
      "outputs": [
        {
          "output_type": "display_data",
          "data": {
            "image/png": "[encoded data removed]",
            "text/plain": [
              "<Figure size 720x720 with 1 Axes>"
            ]
          },
          "metadata": {
            "tags": []
          }
        }
      ]
    },
    {
      "cell_type": "code",
      "metadata": {
        "id": "IAiIDXM4tlH1",
        "colab_type": "code",
        "outputId": "eca9cf55-9e91-48d3-90f7-b0055a6ed1fe",
        "colab": {
          "base_uri": "https://localhost:8080/",
          "height": 595
        }
      },
      "source": [
        "plot(np.array([[2, 5, -3],\n",
        "        [3, 1,  2]], dtype=\"float64\"), np.array(lista_s3,dtype=\"float64\") )"
      ],
      "execution_count": 0,
      "outputs": [
        {
          "output_type": "display_data",
          "data": {
            "image/png": "[encoded data removed]",
            "text/plain": [
              "<Figure size 720x720 with 1 Axes>"
            ]
          },
          "metadata": {
            "tags": []
          }
        }
      ]
    },
    {
      "cell_type": "code",
      "metadata": {
        "id": "c1BhAYgRtoe2",
        "colab_type": "code",
        "outputId": "0e3f1e1d-3533-46f3-bc97-eb2ac62eb358",
        "colab": {
          "base_uri": "https://localhost:8080/",
          "height": 595
        }
      },
      "source": [
        "plot(np.array([[3, 1,  2],\n",
        "           [2, 5, -3]], dtype=\"float64\"), np.array(lista_s4,dtype=\"float64\") )"
      ],
      "execution_count": 0,
      "outputs": [
        {
          "output_type": "display_data",
          "data": {
            "image/png": "[encoded data removed]",
            "text/plain": [
              "<Figure size 720x720 with 1 Axes>"
            ]
          },
          "metadata": {
            "tags": []
          }
        }
      ]
    },
    {
      "cell_type": "code",
      "metadata": {
        "id": "GfL28rDDtrMT",
        "colab_type": "code",
        "colab": {}
      },
      "source": [
        ""
      ],
      "execution_count": 0,
      "outputs": []
    }
  ]
}